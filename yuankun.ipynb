{
 "cells": [
  {
   "cell_type": "code",
   "execution_count": 1,
   "metadata": {},
   "outputs": [],
   "source": [
    "# Trafic Engineering"
   ]
  },
  {
   "cell_type": "code",
   "execution_count": 2,
   "metadata": {},
   "outputs": [],
   "source": [
    "import pandas as pd\n",
    "from pandas import Series, DataFrame"
   ]
  },
  {
   "cell_type": "code",
   "execution_count": 3,
   "metadata": {
    "scrolled": true
   },
   "outputs": [
    {
     "data": {
      "text/html": [
       "<div>\n",
       "<style scoped>\n",
       "    .dataframe tbody tr th:only-of-type {\n",
       "        vertical-align: middle;\n",
       "    }\n",
       "\n",
       "    .dataframe tbody tr th {\n",
       "        vertical-align: top;\n",
       "    }\n",
       "\n",
       "    .dataframe thead th {\n",
       "        text-align: right;\n",
       "    }\n",
       "</style>\n",
       "<table border=\"1\" class=\"dataframe\">\n",
       "  <thead>\n",
       "    <tr style=\"text-align: right;\">\n",
       "      <th></th>\n",
       "      <th>Agency</th>\n",
       "      <th>Organization</th>\n",
       "      <th>Account Type</th>\n",
       "      <th>Character Code</th>\n",
       "      <th>Object</th>\n",
       "      <th>2015</th>\n",
       "      <th>2016</th>\n",
       "      <th>2017</th>\n",
       "      <th>2018</th>\n",
       "    </tr>\n",
       "  </thead>\n",
       "  <tbody>\n",
       "    <tr>\n",
       "      <th>0</th>\n",
       "      <td>50 -  LIBRARY</td>\n",
       "      <td>50100 - LIB PUBLIC SERVICE</td>\n",
       "      <td>Revenue</td>\n",
       "      <td>41 - GENERAL REVENUES</td>\n",
       "      <td>41110 - REAL ESTATE TAXES</td>\n",
       "      <td>-11355535.00</td>\n",
       "      <td>-11941627.00</td>\n",
       "      <td>-12603779.00</td>\n",
       "      <td>-13080447.90</td>\n",
       "    </tr>\n",
       "    <tr>\n",
       "      <th>1</th>\n",
       "      <td>50 -  LIBRARY</td>\n",
       "      <td>50300 - LIB COL RES &amp; ACCESS</td>\n",
       "      <td>Revenue</td>\n",
       "      <td>41 - GENERAL REVENUES</td>\n",
       "      <td>41110 - REAL ESTATE TAXES</td>\n",
       "      <td>-2056164.00</td>\n",
       "      <td>-2222626.00</td>\n",
       "      <td>-2199357.00</td>\n",
       "      <td>-2268968.77</td>\n",
       "    </tr>\n",
       "    <tr>\n",
       "      <th>2</th>\n",
       "      <td>50 -  LIBRARY</td>\n",
       "      <td>50400 - LIB FACILITIES</td>\n",
       "      <td>Revenue</td>\n",
       "      <td>41 - GENERAL REVENUES</td>\n",
       "      <td>41110 - REAL ESTATE TAXES</td>\n",
       "      <td>-1766869.00</td>\n",
       "      <td>-1768986.00</td>\n",
       "      <td>-1963404.00</td>\n",
       "      <td>-1976738.18</td>\n",
       "    </tr>\n",
       "    <tr>\n",
       "      <th>3</th>\n",
       "      <td>51 -  PARKS</td>\n",
       "      <td>51220 - PARK MTC FORESTRY GENERAL</td>\n",
       "      <td>Revenue</td>\n",
       "      <td>49 - TRANSFER IN</td>\n",
       "      <td>49124 - TRANSFER IN FROM OTHER RESTRIC</td>\n",
       "      <td>-1000000.00</td>\n",
       "      <td>-2500000.00</td>\n",
       "      <td>-3100342.25</td>\n",
       "      <td>0.00</td>\n",
       "    </tr>\n",
       "    <tr>\n",
       "      <th>4</th>\n",
       "      <td>44 -  STREETS</td>\n",
       "      <td>44220 - ST RECYCLING COLLECTION</td>\n",
       "      <td>Revenue</td>\n",
       "      <td>43 - CHARGES FOR SERVICES</td>\n",
       "      <td>43445 - SALE OF RECYCLABLES</td>\n",
       "      <td>-841012.69</td>\n",
       "      <td>-866760.77</td>\n",
       "      <td>-1218608.41</td>\n",
       "      <td>-892803.25</td>\n",
       "    </tr>\n",
       "  </tbody>\n",
       "</table>\n",
       "</div>"
      ],
      "text/plain": [
       "          Agency                       Organization Account Type  \\\n",
       "0  50 -  LIBRARY         50100 - LIB PUBLIC SERVICE      Revenue   \n",
       "1  50 -  LIBRARY       50300 - LIB COL RES & ACCESS      Revenue   \n",
       "2  50 -  LIBRARY             50400 - LIB FACILITIES      Revenue   \n",
       "3    51 -  PARKS  51220 - PARK MTC FORESTRY GENERAL      Revenue   \n",
       "4  44 -  STREETS    44220 - ST RECYCLING COLLECTION      Revenue   \n",
       "\n",
       "              Character Code                                  Object  \\\n",
       "0      41 - GENERAL REVENUES               41110 - REAL ESTATE TAXES   \n",
       "1      41 - GENERAL REVENUES               41110 - REAL ESTATE TAXES   \n",
       "2      41 - GENERAL REVENUES               41110 - REAL ESTATE TAXES   \n",
       "3           49 - TRANSFER IN  49124 - TRANSFER IN FROM OTHER RESTRIC   \n",
       "4  43 - CHARGES FOR SERVICES             43445 - SALE OF RECYCLABLES   \n",
       "\n",
       "          2015         2016         2017         2018  \n",
       "0 -11355535.00 -11941627.00 -12603779.00 -13080447.90  \n",
       "1  -2056164.00  -2222626.00  -2199357.00  -2268968.77  \n",
       "2  -1766869.00  -1768986.00  -1963404.00  -1976738.18  \n",
       "3  -1000000.00  -2500000.00  -3100342.25         0.00  \n",
       "4   -841012.69   -866760.77  -1218608.41   -892803.25  "
      ]
     },
     "execution_count": 3,
     "metadata": {},
     "output_type": "execute_result"
    }
   ],
   "source": [
    "df = pd.read_csv(\"spend.csv\")\n",
    "df.head()"
   ]
  },
  {
   "cell_type": "code",
   "execution_count": 4,
   "metadata": {},
   "outputs": [],
   "source": [
    "# df = df.rename(index=str, columns = {\" 2015 \": \"2015\", \" 2016 \": \"2016\", \" 2017 \": \"2017\", \" 2018 \": \"2018\"})"
   ]
  },
  {
   "cell_type": "code",
   "execution_count": 5,
   "metadata": {},
   "outputs": [
    {
     "data": {
      "text/plain": [
       "-618912.89"
      ]
     },
     "execution_count": 5,
     "metadata": {},
     "output_type": "execute_result"
    }
   ],
   "source": [
    "s_rev15 = df['2015'][(df['Agency'] == '45 -  TRAFFIC ENGINEERING') & (df['Account Type'] == 'Revenue')]\n",
    "rev15 = s_rev15.sum()\n",
    "rev15"
   ]
  },
  {
   "cell_type": "code",
   "execution_count": 6,
   "metadata": {},
   "outputs": [
    {
     "data": {
      "text/plain": [
       "7153602.45"
      ]
     },
     "execution_count": 6,
     "metadata": {},
     "output_type": "execute_result"
    }
   ],
   "source": [
    "s_exp15 = df['2015'][(df['Agency'] == '45 -  TRAFFIC ENGINEERING') & (df['Account Type'] == 'Expense')]\n",
    "exp15 = s_exp15.sum()\n",
    "exp15"
   ]
  },
  {
   "cell_type": "code",
   "execution_count": 7,
   "metadata": {},
   "outputs": [
    {
     "data": {
      "text/plain": [
       "-1246813.4500000002"
      ]
     },
     "execution_count": 7,
     "metadata": {},
     "output_type": "execute_result"
    }
   ],
   "source": [
    "s_rev16 = df['2016'][(df['Agency'] == '45 -  TRAFFIC ENGINEERING') & (df['Account Type'] == 'Revenue')]\n",
    "rev16 = s_rev16.sum()\n",
    "rev16"
   ]
  },
  {
   "cell_type": "code",
   "execution_count": 8,
   "metadata": {},
   "outputs": [
    {
     "data": {
      "text/plain": [
       "7056788.83"
      ]
     },
     "execution_count": 8,
     "metadata": {},
     "output_type": "execute_result"
    }
   ],
   "source": [
    "s_exp16 = df['2016'][(df['Agency'] == '45 -  TRAFFIC ENGINEERING') & (df['Account Type'] == 'Expense')]\n",
    "exp16 = s_exp16.sum()\n",
    "exp16"
   ]
  },
  {
   "cell_type": "code",
   "execution_count": 9,
   "metadata": {},
   "outputs": [
    {
     "data": {
      "text/plain": [
       "-1366140.23"
      ]
     },
     "execution_count": 9,
     "metadata": {},
     "output_type": "execute_result"
    }
   ],
   "source": [
    "s_rev17 = df['2017'][(df['Agency'] == '45 -  TRAFFIC ENGINEERING') & (df['Account Type'] == 'Revenue')]\n",
    "rev17 = s_rev17.sum()\n",
    "rev17"
   ]
  },
  {
   "cell_type": "code",
   "execution_count": 10,
   "metadata": {},
   "outputs": [
    {
     "data": {
      "text/plain": [
       "7397270.73"
      ]
     },
     "execution_count": 10,
     "metadata": {},
     "output_type": "execute_result"
    }
   ],
   "source": [
    "s_exp17 = df['2017'][(df['Agency'] == '45 -  TRAFFIC ENGINEERING') & (df['Account Type'] == 'Expense')]\n",
    "exp17 = s_exp17.sum()\n",
    "exp17"
   ]
  },
  {
   "cell_type": "code",
   "execution_count": 11,
   "metadata": {},
   "outputs": [
    {
     "data": {
      "text/plain": [
       "-937656.47"
      ]
     },
     "execution_count": 11,
     "metadata": {},
     "output_type": "execute_result"
    }
   ],
   "source": [
    "s_rev18 = df['2018'][(df['Agency'] == '45 -  TRAFFIC ENGINEERING') & (df['Account Type'] == 'Revenue')]\n",
    "rev18 = s_rev18.sum()\n",
    "rev18"
   ]
  },
  {
   "cell_type": "code",
   "execution_count": 12,
   "metadata": {},
   "outputs": [
    {
     "data": {
      "text/plain": [
       "7093302.779999999"
      ]
     },
     "execution_count": 12,
     "metadata": {},
     "output_type": "execute_result"
    }
   ],
   "source": [
    "s_exp18 = df['2018'][(df['Agency'] == '45 -  TRAFFIC ENGINEERING') & (df['Account Type'] == 'Expense')]\n",
    "exp18 = s_exp18.sum()\n",
    "exp18"
   ]
  },
  {
   "cell_type": "code",
   "execution_count": 13,
   "metadata": {},
   "outputs": [
    {
     "data": {
      "text/html": [
       "<div>\n",
       "<style scoped>\n",
       "    .dataframe tbody tr th:only-of-type {\n",
       "        vertical-align: middle;\n",
       "    }\n",
       "\n",
       "    .dataframe tbody tr th {\n",
       "        vertical-align: top;\n",
       "    }\n",
       "\n",
       "    .dataframe thead th {\n",
       "        text-align: right;\n",
       "    }\n",
       "</style>\n",
       "<table border=\"1\" class=\"dataframe\">\n",
       "  <thead>\n",
       "    <tr style=\"text-align: right;\">\n",
       "      <th></th>\n",
       "      <th>Revenue</th>\n",
       "      <th>Expense</th>\n",
       "    </tr>\n",
       "    <tr>\n",
       "      <th>Year</th>\n",
       "      <th></th>\n",
       "      <th></th>\n",
       "    </tr>\n",
       "  </thead>\n",
       "  <tbody>\n",
       "    <tr>\n",
       "      <th>2015</th>\n",
       "      <td>-618912.89</td>\n",
       "      <td>7153602.45</td>\n",
       "    </tr>\n",
       "    <tr>\n",
       "      <th>2016</th>\n",
       "      <td>-1246813.45</td>\n",
       "      <td>7056788.83</td>\n",
       "    </tr>\n",
       "    <tr>\n",
       "      <th>2017</th>\n",
       "      <td>-1366140.23</td>\n",
       "      <td>7397270.73</td>\n",
       "    </tr>\n",
       "    <tr>\n",
       "      <th>2018</th>\n",
       "      <td>-937656.47</td>\n",
       "      <td>7093302.78</td>\n",
       "    </tr>\n",
       "  </tbody>\n",
       "</table>\n",
       "</div>"
      ],
      "text/plain": [
       "         Revenue     Expense\n",
       "Year                        \n",
       "2015  -618912.89  7153602.45\n",
       "2016 -1246813.45  7056788.83\n",
       "2017 -1366140.23  7397270.73\n",
       "2018  -937656.47  7093302.78"
      ]
     },
     "execution_count": 13,
     "metadata": {},
     "output_type": "execute_result"
    }
   ],
   "source": [
    "df_graph = DataFrame({'Year': ['2015', '2016', '2017', '2018'], 'Revenue': [rev15, rev16, rev17, rev18], 'Expense': [exp15, exp16, exp17, exp18]})\n",
    "df_graph.set_index('Year')"
   ]
  },
  {
   "cell_type": "code",
   "execution_count": 14,
   "metadata": {},
   "outputs": [],
   "source": [
    "%matplotlib inline"
   ]
  },
  {
   "cell_type": "code",
   "execution_count": 15,
   "metadata": {},
   "outputs": [],
   "source": [
    "import matplotlib\n",
    "matplotlib.rcParams.update({'font.size': 13})"
   ]
  },
  {
   "cell_type": "code",
   "execution_count": 16,
   "metadata": {},
   "outputs": [
    {
     "data": {
      "image/png": "[encoded data removed]",
      "text/plain": [
       "<Figure size 432x288 with 1 Axes>"
      ]
     },
     "metadata": {},
     "output_type": "display_data"
    }
   ],
   "source": [
    "ax = df_graph.plot.bar()\n",
    "None"
   ]
  },
  {
   "cell_type": "code",
   "execution_count": null,
   "metadata": {},
   "outputs": [],
   "source": []
  }
 ],
 "metadata": {
  "kernelspec": {
   "display_name": "Python 3",
   "language": "python",
   "name": "python3"
  },
  "language_info": {
   "codemirror_mode": {
    "name": "ipython",
    "version": 3
   },
   "file_extension": ".py",
   "mimetype": "text/x-python",
   "name": "python",
   "nbconvert_exporter": "python",
   "pygments_lexer": "ipython3",
   "version": "3.6.5"
  }
 },
 "nbformat": 4,
 "nbformat_minor": 2
}
